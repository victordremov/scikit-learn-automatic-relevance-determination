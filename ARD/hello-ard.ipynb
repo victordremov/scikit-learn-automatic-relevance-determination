{
 "cells": [
  {
   "cell_type": "code",
   "execution_count": 1,
   "metadata": {
    "collapsed": true
   },
   "outputs": [],
   "source": [
    "from sklearn.datasets import make_regression\n",
    "from typing import Optional\n",
    "from ARDRegressor import ARDRegressor\n",
    "import numpy as np"
   ]
  },
  {
   "cell_type": "code",
   "execution_count": 4,
   "outputs": [
    {
     "name": "stdout",
     "output_type": "stream",
     "text": [
      "The autoreload extension is already loaded. To reload it, use:\n",
      "  %reload_ext autoreload\n"
     ]
    }
   ],
   "source": [
    "%load_ext autoreload\n",
    "%autoreload 2"
   ],
   "metadata": {
    "collapsed": false
   }
  },
  {
   "cell_type": "code",
   "execution_count": 7,
   "outputs": [
    {
     "name": "stderr",
     "output_type": "stream",
     "text": [
      "/Users/viktor.dremov/Documents/GitHub/scikit-learn-automatic-relevance-determination/ARD/ARDRegressor.py:70: RuntimeWarning: divide by zero encountered in divide\n",
      "  alphas_new = (1.0 + alphas_old * sigma_diag) / w_mp ** 2\n"
     ]
    },
    {
     "data": {
      "text/plain": "      w_true         w_pred\n0  74.086597   7.408423e+01\n1  57.014778   5.702181e+01\n2   0.000000  -3.052314e-81\n3   0.000000  6.994504e-224\n4   0.000000  -1.013678e-30\n5  15.347405   1.534854e+01\n6   0.000000   4.229302e-54\n7   0.000000   2.944678e-13\n8   0.000000  2.681560e-100\n9   0.000000 -4.785326e-106",
      "text/html": "<div>\n<style scoped>\n    .dataframe tbody tr th:only-of-type {\n        vertical-align: middle;\n    }\n\n    .dataframe tbody tr th {\n        vertical-align: top;\n    }\n\n    .dataframe thead th {\n        text-align: right;\n    }\n</style>\n<table border=\"1\" class=\"dataframe\">\n  <thead>\n    <tr style=\"text-align: right;\">\n      <th></th>\n      <th>w_true</th>\n      <th>w_pred</th>\n    </tr>\n  </thead>\n  <tbody>\n    <tr>\n      <th>0</th>\n      <td>74.086597</td>\n      <td>7.408423e+01</td>\n    </tr>\n    <tr>\n      <th>1</th>\n      <td>57.014778</td>\n      <td>5.702181e+01</td>\n    </tr>\n    <tr>\n      <th>2</th>\n      <td>0.000000</td>\n      <td>-3.052314e-81</td>\n    </tr>\n    <tr>\n      <th>3</th>\n      <td>0.000000</td>\n      <td>6.994504e-224</td>\n    </tr>\n    <tr>\n      <th>4</th>\n      <td>0.000000</td>\n      <td>-1.013678e-30</td>\n    </tr>\n    <tr>\n      <th>5</th>\n      <td>15.347405</td>\n      <td>1.534854e+01</td>\n    </tr>\n    <tr>\n      <th>6</th>\n      <td>0.000000</td>\n      <td>4.229302e-54</td>\n    </tr>\n    <tr>\n      <th>7</th>\n      <td>0.000000</td>\n      <td>2.944678e-13</td>\n    </tr>\n    <tr>\n      <th>8</th>\n      <td>0.000000</td>\n      <td>2.681560e-100</td>\n    </tr>\n    <tr>\n      <th>9</th>\n      <td>0.000000</td>\n      <td>-4.785326e-106</td>\n    </tr>\n  </tbody>\n</table>\n</div>"
     },
     "metadata": {},
     "output_type": "display_data"
    }
   ],
   "source": [
    "import pandas as pd\n",
    "\n",
    "\n",
    "X, y, coef = make_regression(\n",
    "    n_samples=10000, n_features=10, n_informative=3, noise=1.0, coef=True\n",
    ")\n",
    "\n",
    "regressor = ARDRegressor(n_iterations=1000)\n",
    "regressor.fit(X, y)\n",
    "display(\n",
    "    pd.DataFrame(\n",
    "        {\n",
    "            \"w_true\": coef.reshape(-1),\n",
    "            \"w_pred\": regressor.w_.reshape(-1),\n",
    "        }\n",
    "    )\n",
    ")"
   ],
   "metadata": {
    "collapsed": false
   }
  },
  {
   "cell_type": "code",
   "execution_count": null,
   "outputs": [],
   "source": [],
   "metadata": {
    "collapsed": false
   }
  }
 ],
 "metadata": {
  "kernelspec": {
   "display_name": "Python 3",
   "language": "python",
   "name": "python3"
  },
  "language_info": {
   "codemirror_mode": {
    "name": "ipython",
    "version": 2
   },
   "file_extension": ".py",
   "mimetype": "text/x-python",
   "name": "python",
   "nbconvert_exporter": "python",
   "pygments_lexer": "ipython2",
   "version": "2.7.6"
  }
 },
 "nbformat": 4,
 "nbformat_minor": 0
}
