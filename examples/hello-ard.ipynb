{
 "cells": [
  {
   "cell_type": "code",
   "execution_count": 5,
   "metadata": {
    "collapsed": true
   },
   "outputs": [],
   "source": [
    "from sklearn.datasets import make_regression\n",
    "from typing import Optional\n",
    "from ARD.ARDRegressor import ARDRegressor\n",
    "import numpy as np"
   ]
  },
  {
   "cell_type": "code",
   "execution_count": 6,
   "outputs": [],
   "source": [
    "%load_ext autoreload\n",
    "%autoreload 2"
   ],
   "metadata": {
    "collapsed": false
   }
  },
  {
   "cell_type": "code",
   "execution_count": 46,
   "outputs": [
    {
     "data": {
      "text/plain": "      w_true  w, iter=1  w, iter=2  w, iter=3  w, iter=4  w, iter=5  \\\n0   0.000000  -0.005637  -0.001388   0.000000   0.000000   0.000000   \n1   5.325260   5.335047   5.335618   5.335608   5.335566   5.335548   \n2  49.297300  49.297868  49.302608  49.302587  49.302601  49.302607   \n3   0.000000  -0.006304  -0.001802   0.000000   0.000000   0.000000   \n4   0.000000  -0.012996  -0.008129  -0.004212  -0.001243   0.000000   \n5   0.000000   0.003978   0.000555   0.000000   0.000000   0.000000   \n6   0.000000   0.005567   0.001348   0.000000   0.000000   0.000000   \n7   0.000000   0.000603   0.000000   0.000000   0.000000   0.000000   \n8   0.000000   0.005976   0.001551   0.000000   0.000000   0.000000   \n9  69.317728  69.324032  69.331083  69.331116  69.331118  69.331118   \n\n   w, iter=100  \n0     0.000000  \n1     5.335548  \n2    49.302607  \n3     0.000000  \n4     0.000000  \n5     0.000000  \n6     0.000000  \n7     0.000000  \n8     0.000000  \n9    69.331118  ",
      "text/html": "<div>\n<style scoped>\n    .dataframe tbody tr th:only-of-type {\n        vertical-align: middle;\n    }\n\n    .dataframe tbody tr th {\n        vertical-align: top;\n    }\n\n    .dataframe thead th {\n        text-align: right;\n    }\n</style>\n<table border=\"1\" class=\"dataframe\">\n  <thead>\n    <tr style=\"text-align: right;\">\n      <th></th>\n      <th>w_true</th>\n      <th>w, iter=1</th>\n      <th>w, iter=2</th>\n      <th>w, iter=3</th>\n      <th>w, iter=4</th>\n      <th>w, iter=5</th>\n      <th>w, iter=100</th>\n    </tr>\n  </thead>\n  <tbody>\n    <tr>\n      <th>0</th>\n      <td>0.000000</td>\n      <td>-0.005637</td>\n      <td>-0.001388</td>\n      <td>0.000000</td>\n      <td>0.000000</td>\n      <td>0.000000</td>\n      <td>0.000000</td>\n    </tr>\n    <tr>\n      <th>1</th>\n      <td>5.325260</td>\n      <td>5.335047</td>\n      <td>5.335618</td>\n      <td>5.335608</td>\n      <td>5.335566</td>\n      <td>5.335548</td>\n      <td>5.335548</td>\n    </tr>\n    <tr>\n      <th>2</th>\n      <td>49.297300</td>\n      <td>49.297868</td>\n      <td>49.302608</td>\n      <td>49.302587</td>\n      <td>49.302601</td>\n      <td>49.302607</td>\n      <td>49.302607</td>\n    </tr>\n    <tr>\n      <th>3</th>\n      <td>0.000000</td>\n      <td>-0.006304</td>\n      <td>-0.001802</td>\n      <td>0.000000</td>\n      <td>0.000000</td>\n      <td>0.000000</td>\n      <td>0.000000</td>\n    </tr>\n    <tr>\n      <th>4</th>\n      <td>0.000000</td>\n      <td>-0.012996</td>\n      <td>-0.008129</td>\n      <td>-0.004212</td>\n      <td>-0.001243</td>\n      <td>0.000000</td>\n      <td>0.000000</td>\n    </tr>\n    <tr>\n      <th>5</th>\n      <td>0.000000</td>\n      <td>0.003978</td>\n      <td>0.000555</td>\n      <td>0.000000</td>\n      <td>0.000000</td>\n      <td>0.000000</td>\n      <td>0.000000</td>\n    </tr>\n    <tr>\n      <th>6</th>\n      <td>0.000000</td>\n      <td>0.005567</td>\n      <td>0.001348</td>\n      <td>0.000000</td>\n      <td>0.000000</td>\n      <td>0.000000</td>\n      <td>0.000000</td>\n    </tr>\n    <tr>\n      <th>7</th>\n      <td>0.000000</td>\n      <td>0.000603</td>\n      <td>0.000000</td>\n      <td>0.000000</td>\n      <td>0.000000</td>\n      <td>0.000000</td>\n      <td>0.000000</td>\n    </tr>\n    <tr>\n      <th>8</th>\n      <td>0.000000</td>\n      <td>0.005976</td>\n      <td>0.001551</td>\n      <td>0.000000</td>\n      <td>0.000000</td>\n      <td>0.000000</td>\n      <td>0.000000</td>\n    </tr>\n    <tr>\n      <th>9</th>\n      <td>69.317728</td>\n      <td>69.324032</td>\n      <td>69.331083</td>\n      <td>69.331116</td>\n      <td>69.331118</td>\n      <td>69.331118</td>\n      <td>69.331118</td>\n    </tr>\n  </tbody>\n</table>\n</div>"
     },
     "metadata": {},
     "output_type": "display_data"
    }
   ],
   "source": [
    "import pandas as pd\n",
    "\n",
    "\n",
    "X, y, coef = make_regression(\n",
    "    n_samples=10000,\n",
    "    n_features=10,\n",
    "    n_informative=3,\n",
    "    noise=1.0,\n",
    "    coef=True,\n",
    "    random_state=2023,\n",
    ")\n",
    "\n",
    "result = pd.DataFrame({\"w_true\": coef.reshape(-1)})\n",
    "for i in [1, 2, 3, 4, 5,  100]:\n",
    "    regressor = ARDRegressor(n_iterations=i)\n",
    "    regressor.fit(X, y)\n",
    "    result[f\"w, iter={i}\"] = regressor.w_.reshape(-1)\n",
    "display(result)"
   ],
   "metadata": {
    "collapsed": false
   }
  },
  {
   "cell_type": "code",
   "execution_count": 15,
   "outputs": [
    {
     "data": {
      "text/plain": "array([[20.23808475],\n       [ 7.5110815 ],\n       [75.62993063]])"
     },
     "execution_count": 15,
     "metadata": {},
     "output_type": "execute_result"
    }
   ],
   "source": [
    "regressor.w_"
   ],
   "metadata": {
    "collapsed": false
   }
  },
  {
   "cell_type": "code",
   "execution_count": null,
   "outputs": [],
   "source": [],
   "metadata": {
    "collapsed": false
   }
  }
 ],
 "metadata": {
  "kernelspec": {
   "display_name": "Python 3",
   "language": "python",
   "name": "python3"
  },
  "language_info": {
   "codemirror_mode": {
    "name": "ipython",
    "version": 2
   },
   "file_extension": ".py",
   "mimetype": "text/x-python",
   "name": "python",
   "nbconvert_exporter": "python",
   "pygments_lexer": "ipython2",
   "version": "2.7.6"
  }
 },
 "nbformat": 4,
 "nbformat_minor": 0
}
