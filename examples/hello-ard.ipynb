{
 "cells": [
  {
   "cell_type": "code",
   "execution_count": 5,
   "metadata": {
    "collapsed": true
   },
   "outputs": [],
   "source": [
    "from sklearn.datasets import make_regression\n",
    "from typing import Optional\n",
    "from ARD.ARDRegressor import ARDRegressor\n",
    "import numpy as np"
   ]
  },
  {
   "cell_type": "code",
   "execution_count": 6,
   "outputs": [],
   "source": [
    "%load_ext autoreload\n",
    "%autoreload 2"
   ],
   "metadata": {
    "collapsed": false
   }
  },
  {
   "cell_type": "code",
   "execution_count": 50,
   "outputs": [
    {
     "data": {
      "text/plain": "      w_true  w, iter=1  w, iter=2  w, iter=3  w, iter=5  w, iter=8  \\\n0   0.000000   0.052049   0.037102   0.026130   0.006300   0.000000   \n1   0.000000  -0.001108   0.000000   0.000000   0.000000   0.000000   \n2  93.527186  93.419498  93.510783  93.510328  93.509707  93.509516   \n3   0.000000  -0.009597  -0.001188   0.000000   0.000000   0.000000   \n4  53.832016  53.686439  53.743593  53.744140  53.744737  53.744913   \n5  89.294912  89.215671  89.299548  89.299491  89.299700  89.299777   \n6   0.000000  -0.013271  -0.000774   0.000000   0.000000   0.000000   \n7   0.000000   0.006065   0.000159   0.000000   0.000000   0.000000   \n8   0.000000   0.002277   0.000000   0.000000   0.000000   0.000000   \n9   0.000000   0.025622   0.010126   0.001499   0.000000   0.000000   \n\n   w, iter=13  w, iter=21  w, iter=34  w, iter=55  \n0    0.000000    0.000000    0.000000    0.000000  \n1    0.000000    0.000000    0.000000    0.000000  \n2   93.509516   93.509516   93.509516   93.509516  \n3    0.000000    0.000000    0.000000    0.000000  \n4   53.744913   53.744913   53.744913   53.744913  \n5   89.299777   89.299777   89.299777   89.299777  \n6    0.000000    0.000000    0.000000    0.000000  \n7    0.000000    0.000000    0.000000    0.000000  \n8    0.000000    0.000000    0.000000    0.000000  \n9    0.000000    0.000000    0.000000    0.000000  ",
      "text/html": "<div>\n<style scoped>\n    .dataframe tbody tr th:only-of-type {\n        vertical-align: middle;\n    }\n\n    .dataframe tbody tr th {\n        vertical-align: top;\n    }\n\n    .dataframe thead th {\n        text-align: right;\n    }\n</style>\n<table border=\"1\" class=\"dataframe\">\n  <thead>\n    <tr style=\"text-align: right;\">\n      <th></th>\n      <th>w_true</th>\n      <th>w, iter=1</th>\n      <th>w, iter=2</th>\n      <th>w, iter=3</th>\n      <th>w, iter=5</th>\n      <th>w, iter=8</th>\n      <th>w, iter=13</th>\n      <th>w, iter=21</th>\n      <th>w, iter=34</th>\n      <th>w, iter=55</th>\n    </tr>\n  </thead>\n  <tbody>\n    <tr>\n      <th>0</th>\n      <td>0.000000</td>\n      <td>0.052049</td>\n      <td>0.037102</td>\n      <td>0.026130</td>\n      <td>0.006300</td>\n      <td>0.000000</td>\n      <td>0.000000</td>\n      <td>0.000000</td>\n      <td>0.000000</td>\n      <td>0.000000</td>\n    </tr>\n    <tr>\n      <th>1</th>\n      <td>0.000000</td>\n      <td>-0.001108</td>\n      <td>0.000000</td>\n      <td>0.000000</td>\n      <td>0.000000</td>\n      <td>0.000000</td>\n      <td>0.000000</td>\n      <td>0.000000</td>\n      <td>0.000000</td>\n      <td>0.000000</td>\n    </tr>\n    <tr>\n      <th>2</th>\n      <td>93.527186</td>\n      <td>93.419498</td>\n      <td>93.510783</td>\n      <td>93.510328</td>\n      <td>93.509707</td>\n      <td>93.509516</td>\n      <td>93.509516</td>\n      <td>93.509516</td>\n      <td>93.509516</td>\n      <td>93.509516</td>\n    </tr>\n    <tr>\n      <th>3</th>\n      <td>0.000000</td>\n      <td>-0.009597</td>\n      <td>-0.001188</td>\n      <td>0.000000</td>\n      <td>0.000000</td>\n      <td>0.000000</td>\n      <td>0.000000</td>\n      <td>0.000000</td>\n      <td>0.000000</td>\n      <td>0.000000</td>\n    </tr>\n    <tr>\n      <th>4</th>\n      <td>53.832016</td>\n      <td>53.686439</td>\n      <td>53.743593</td>\n      <td>53.744140</td>\n      <td>53.744737</td>\n      <td>53.744913</td>\n      <td>53.744913</td>\n      <td>53.744913</td>\n      <td>53.744913</td>\n      <td>53.744913</td>\n    </tr>\n    <tr>\n      <th>5</th>\n      <td>89.294912</td>\n      <td>89.215671</td>\n      <td>89.299548</td>\n      <td>89.299491</td>\n      <td>89.299700</td>\n      <td>89.299777</td>\n      <td>89.299777</td>\n      <td>89.299777</td>\n      <td>89.299777</td>\n      <td>89.299777</td>\n    </tr>\n    <tr>\n      <th>6</th>\n      <td>0.000000</td>\n      <td>-0.013271</td>\n      <td>-0.000774</td>\n      <td>0.000000</td>\n      <td>0.000000</td>\n      <td>0.000000</td>\n      <td>0.000000</td>\n      <td>0.000000</td>\n      <td>0.000000</td>\n      <td>0.000000</td>\n    </tr>\n    <tr>\n      <th>7</th>\n      <td>0.000000</td>\n      <td>0.006065</td>\n      <td>0.000159</td>\n      <td>0.000000</td>\n      <td>0.000000</td>\n      <td>0.000000</td>\n      <td>0.000000</td>\n      <td>0.000000</td>\n      <td>0.000000</td>\n      <td>0.000000</td>\n    </tr>\n    <tr>\n      <th>8</th>\n      <td>0.000000</td>\n      <td>0.002277</td>\n      <td>0.000000</td>\n      <td>0.000000</td>\n      <td>0.000000</td>\n      <td>0.000000</td>\n      <td>0.000000</td>\n      <td>0.000000</td>\n      <td>0.000000</td>\n      <td>0.000000</td>\n    </tr>\n    <tr>\n      <th>9</th>\n      <td>0.000000</td>\n      <td>0.025622</td>\n      <td>0.010126</td>\n      <td>0.001499</td>\n      <td>0.000000</td>\n      <td>0.000000</td>\n      <td>0.000000</td>\n      <td>0.000000</td>\n      <td>0.000000</td>\n      <td>0.000000</td>\n    </tr>\n  </tbody>\n</table>\n</div>"
     },
     "metadata": {},
     "output_type": "display_data"
    }
   ],
   "source": [
    "import pandas as pd\n",
    "\n",
    "\n",
    "X, y, coef = make_regression(\n",
    "    n_samples=1000,\n",
    "    n_features=10,\n",
    "    n_informative=3,\n",
    "    noise=1.0,\n",
    "    coef=True,\n",
    "    random_state=2022,\n",
    ")\n",
    "\n",
    "result = pd.DataFrame({\"w_true\": coef.reshape(-1)})\n",
    "for i in [1, 2, 3, 5, 8, 13, 21, 34, 55]:\n",
    "    regressor = ARDRegressor(n_iterations=i)\n",
    "    regressor.fit(X, y)\n",
    "    result[f\"w, iter={i}\"] = regressor.w_.reshape(-1)\n",
    "display(result)"
   ],
   "metadata": {
    "collapsed": false
   }
  },
  {
   "cell_type": "code",
   "execution_count": 53,
   "outputs": [
    {
     "data": {
      "text/plain": "      w_true  w, iter=1  w, iter=2  w, iter=3  w, iter=5  w, iter=8  \\\n0  26.932597  26.625873  26.922003  26.922331  26.922327  26.922327   \n1  16.721412  16.273073  16.474469  16.475400  16.475400  16.475400   \n2   6.560967   6.499648   6.540052   6.542495   6.542501   6.542501   \n3  48.839742  48.391101  48.860801  48.860650  48.860646  48.860646   \n4  30.185907  29.858224  30.143925  30.144269  30.144270  30.144270   \n5  19.676954  19.540772  19.778793  19.779070  19.779065  19.779065   \n6  73.094679  72.465623  73.156547  73.156261  73.156255  73.156255   \n7   2.120164   2.228057   2.040706   2.045826   2.045875   2.045875   \n8  60.033068  59.227574  59.837347  59.837288  59.837289  59.837289   \n9  13.323137  13.184881  13.358721  13.359737  13.359736  13.359736   \n\n   w, iter=13  w, iter=21  w, iter=34  w, iter=55  \n0   26.922327   26.922327   26.922327   26.922327  \n1   16.475400   16.475400   16.475400   16.475400  \n2    6.542501    6.542501    6.542501    6.542501  \n3   48.860646   48.860646   48.860646   48.860646  \n4   30.144270   30.144270   30.144270   30.144270  \n5   19.779065   19.779065   19.779065   19.779065  \n6   73.156255   73.156255   73.156255   73.156255  \n7    2.045875    2.045875    2.045875    2.045875  \n8   59.837289   59.837289   59.837289   59.837289  \n9   13.359736   13.359736   13.359736   13.359736  ",
      "text/html": "<div>\n<style scoped>\n    .dataframe tbody tr th:only-of-type {\n        vertical-align: middle;\n    }\n\n    .dataframe tbody tr th {\n        vertical-align: top;\n    }\n\n    .dataframe thead th {\n        text-align: right;\n    }\n</style>\n<table border=\"1\" class=\"dataframe\">\n  <thead>\n    <tr style=\"text-align: right;\">\n      <th></th>\n      <th>w_true</th>\n      <th>w, iter=1</th>\n      <th>w, iter=2</th>\n      <th>w, iter=3</th>\n      <th>w, iter=5</th>\n      <th>w, iter=8</th>\n      <th>w, iter=13</th>\n      <th>w, iter=21</th>\n      <th>w, iter=34</th>\n      <th>w, iter=55</th>\n    </tr>\n  </thead>\n  <tbody>\n    <tr>\n      <th>0</th>\n      <td>26.932597</td>\n      <td>26.625873</td>\n      <td>26.922003</td>\n      <td>26.922331</td>\n      <td>26.922327</td>\n      <td>26.922327</td>\n      <td>26.922327</td>\n      <td>26.922327</td>\n      <td>26.922327</td>\n      <td>26.922327</td>\n    </tr>\n    <tr>\n      <th>1</th>\n      <td>16.721412</td>\n      <td>16.273073</td>\n      <td>16.474469</td>\n      <td>16.475400</td>\n      <td>16.475400</td>\n      <td>16.475400</td>\n      <td>16.475400</td>\n      <td>16.475400</td>\n      <td>16.475400</td>\n      <td>16.475400</td>\n    </tr>\n    <tr>\n      <th>2</th>\n      <td>6.560967</td>\n      <td>6.499648</td>\n      <td>6.540052</td>\n      <td>6.542495</td>\n      <td>6.542501</td>\n      <td>6.542501</td>\n      <td>6.542501</td>\n      <td>6.542501</td>\n      <td>6.542501</td>\n      <td>6.542501</td>\n    </tr>\n    <tr>\n      <th>3</th>\n      <td>48.839742</td>\n      <td>48.391101</td>\n      <td>48.860801</td>\n      <td>48.860650</td>\n      <td>48.860646</td>\n      <td>48.860646</td>\n      <td>48.860646</td>\n      <td>48.860646</td>\n      <td>48.860646</td>\n      <td>48.860646</td>\n    </tr>\n    <tr>\n      <th>4</th>\n      <td>30.185907</td>\n      <td>29.858224</td>\n      <td>30.143925</td>\n      <td>30.144269</td>\n      <td>30.144270</td>\n      <td>30.144270</td>\n      <td>30.144270</td>\n      <td>30.144270</td>\n      <td>30.144270</td>\n      <td>30.144270</td>\n    </tr>\n    <tr>\n      <th>5</th>\n      <td>19.676954</td>\n      <td>19.540772</td>\n      <td>19.778793</td>\n      <td>19.779070</td>\n      <td>19.779065</td>\n      <td>19.779065</td>\n      <td>19.779065</td>\n      <td>19.779065</td>\n      <td>19.779065</td>\n      <td>19.779065</td>\n    </tr>\n    <tr>\n      <th>6</th>\n      <td>73.094679</td>\n      <td>72.465623</td>\n      <td>73.156547</td>\n      <td>73.156261</td>\n      <td>73.156255</td>\n      <td>73.156255</td>\n      <td>73.156255</td>\n      <td>73.156255</td>\n      <td>73.156255</td>\n      <td>73.156255</td>\n    </tr>\n    <tr>\n      <th>7</th>\n      <td>2.120164</td>\n      <td>2.228057</td>\n      <td>2.040706</td>\n      <td>2.045826</td>\n      <td>2.045875</td>\n      <td>2.045875</td>\n      <td>2.045875</td>\n      <td>2.045875</td>\n      <td>2.045875</td>\n      <td>2.045875</td>\n    </tr>\n    <tr>\n      <th>8</th>\n      <td>60.033068</td>\n      <td>59.227574</td>\n      <td>59.837347</td>\n      <td>59.837288</td>\n      <td>59.837289</td>\n      <td>59.837289</td>\n      <td>59.837289</td>\n      <td>59.837289</td>\n      <td>59.837289</td>\n      <td>59.837289</td>\n    </tr>\n    <tr>\n      <th>9</th>\n      <td>13.323137</td>\n      <td>13.184881</td>\n      <td>13.358721</td>\n      <td>13.359737</td>\n      <td>13.359736</td>\n      <td>13.359736</td>\n      <td>13.359736</td>\n      <td>13.359736</td>\n      <td>13.359736</td>\n      <td>13.359736</td>\n    </tr>\n  </tbody>\n</table>\n</div>"
     },
     "metadata": {},
     "output_type": "display_data"
    }
   ],
   "source": [
    "import pandas as pd\n",
    "\n",
    "\n",
    "X, y, coef = make_regression(\n",
    "    n_samples=100,\n",
    "    n_features=10,\n",
    "    n_informative=10,\n",
    "    noise=1.0,\n",
    "    coef=True,\n",
    "    random_state=2022,\n",
    ")\n",
    "\n",
    "result = pd.DataFrame({\"w_true\": coef.reshape(-1)})\n",
    "for i in [1, 2, 3, 5, 8, 13, 21, 34, 55]:\n",
    "    regressor = ARDRegressor(n_iterations=i)\n",
    "    regressor.fit(X, y)\n",
    "    result[f\"w, iter={i}\"] = regressor.w_.reshape(-1)\n",
    "display(result)"
   ],
   "metadata": {
    "collapsed": false
   }
  },
  {
   "cell_type": "code",
   "execution_count": null,
   "outputs": [],
   "source": [],
   "metadata": {
    "collapsed": false
   }
  }
 ],
 "metadata": {
  "kernelspec": {
   "display_name": "Python 3",
   "language": "python",
   "name": "python3"
  },
  "language_info": {
   "codemirror_mode": {
    "name": "ipython",
    "version": 2
   },
   "file_extension": ".py",
   "mimetype": "text/x-python",
   "name": "python",
   "nbconvert_exporter": "python",
   "pygments_lexer": "ipython2",
   "version": "2.7.6"
  }
 },
 "nbformat": 4,
 "nbformat_minor": 0
}
